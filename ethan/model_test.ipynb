{
 "cells": [
  {
   "cell_type": "markdown",
   "metadata": {},
   "source": [
    "# Reference\n",
    "\n",
    "This code is copied from the [hugging face translation tutorial](https://huggingface.co/docs/transformers/en/tasks/translation) "
   ]
  },
  {
   "cell_type": "code",
   "execution_count": 1,
   "metadata": {},
   "outputs": [
    {
     "data": {
      "text/plain": [
       "device(type='cuda')"
      ]
     },
     "execution_count": 1,
     "metadata": {},
     "output_type": "execute_result"
    }
   ],
   "source": [
    "import torch\n",
    "import evaluate\n",
    "import numpy as np\n",
    "from datasets import load_dataset\n",
    "from transformers import AutoTokenizer\n",
    "from transformers import DataCollatorForSeq2Seq\n",
    "from transformers import AutoModelForSeq2SeqLM, Seq2SeqTrainingArguments, Seq2SeqTrainer\n",
    "from transformers import AutoTokenizer\n",
    "\n",
    "device = torch.device(\"cuda\") if torch.cuda.is_available() else torch.device(\"cpu\")\n",
    "device\n"
   ]
  },
  {
   "cell_type": "code",
   "execution_count": 2,
   "metadata": {},
   "outputs": [],
   "source": [
    "books = load_dataset(\"opus_books\", \"en-fr\")"
   ]
  },
  {
   "cell_type": "code",
   "execution_count": 3,
   "metadata": {},
   "outputs": [],
   "source": [
    "books = books[\"train\"].train_test_split(test_size=0.2)"
   ]
  },
  {
   "cell_type": "code",
   "execution_count": 5,
   "metadata": {},
   "outputs": [
    {
     "data": {
      "text/plain": [
       "{'id': '46495',\n",
       " 'translation': {'en': 'Felton arose.', 'fr': 'Felton se leva.'}}"
      ]
     },
     "execution_count": 5,
     "metadata": {},
     "output_type": "execute_result"
    }
   ],
   "source": [
    "books[\"train\"][0]"
   ]
  },
  {
   "cell_type": "code",
   "execution_count": 6,
   "metadata": {},
   "outputs": [],
   "source": [
    "checkpoint = \"google-t5/t5-small\"\n",
    "tokenizer = AutoTokenizer.from_pretrained(checkpoint)"
   ]
  },
  {
   "cell_type": "code",
   "execution_count": 7,
   "metadata": {},
   "outputs": [],
   "source": [
    "source_lang = \"en\"\n",
    "target_lang = \"fr\"\n",
    "prefix = \"translate English to French: \""
   ]
  },
  {
   "cell_type": "code",
   "execution_count": 8,
   "metadata": {},
   "outputs": [],
   "source": [
    "def preprocess_function(examples):\n",
    "    inputs = [prefix + example[source_lang] for example in examples[\"translation\"]]\n",
    "    targets = [example[target_lang] for example in examples[\"translation\"]]\n",
    "    model_inputs = tokenizer(inputs, text_target=targets, max_length=128, truncation=True)\n",
    "    return model_inputs"
   ]
  },
  {
   "cell_type": "code",
   "execution_count": 9,
   "metadata": {},
   "outputs": [
    {
     "data": {
      "application/vnd.jupyter.widget-view+json": {
       "model_id": "8149d1da7235488d992a6ce1887b6ed4",
       "version_major": 2,
       "version_minor": 0
      },
      "text/plain": [
       "Map:   0%|          | 0/101668 [00:00<?, ? examples/s]"
      ]
     },
     "metadata": {},
     "output_type": "display_data"
    },
    {
     "data": {
      "application/vnd.jupyter.widget-view+json": {
       "model_id": "19d4a40f0d54484c8da56b92166f0518",
       "version_major": 2,
       "version_minor": 0
      },
      "text/plain": [
       "Map:   0%|          | 0/25417 [00:00<?, ? examples/s]"
      ]
     },
     "metadata": {},
     "output_type": "display_data"
    }
   ],
   "source": [
    "tokenized_books = books.map(preprocess_function, batched=True)"
   ]
  },
  {
   "cell_type": "code",
   "execution_count": 10,
   "metadata": {},
   "outputs": [],
   "source": [
    "data_collator = DataCollatorForSeq2Seq(tokenizer=tokenizer, model=checkpoint)"
   ]
  },
  {
   "cell_type": "code",
   "execution_count": 11,
   "metadata": {},
   "outputs": [],
   "source": [
    "metric = evaluate.load(\"sacrebleu\")"
   ]
  },
  {
   "cell_type": "code",
   "execution_count": 12,
   "metadata": {},
   "outputs": [],
   "source": [
    "def postprocess_text(preds, labels):\n",
    "    preds = [pred.strip() for pred in preds]\n",
    "    labels = [[label.strip()] for label in labels]\n",
    "    return preds, labels\n",
    "\n",
    "def compute_metrics(eval_preds):\n",
    "    preds, labels = eval_preds\n",
    "    if isinstance(preds, tuple):\n",
    "        preds = preds[0]\n",
    "    decoded_preds = tokenizer.batch_decode(preds, skip_special_tokens=True)\n",
    "\n",
    "    labels = np.where(labels != -100, labels, tokenizer.pad_token_id)\n",
    "    decoded_labels = tokenizer.batch_decode(labels, skip_special_tokens=True)\n",
    "\n",
    "    decoded_preds, decoded_labels = postprocess_text(decoded_preds, decoded_labels)\n",
    "\n",
    "    result = metric.compute(predictions=decoded_preds, references=decoded_labels)\n",
    "    result = {\"bleu\": result[\"score\"]}\n",
    "\n",
    "    prediction_lens = [np.count_nonzero(pred != tokenizer.pad_token_id) for pred in preds]\n",
    "    result[\"gen_len\"] = np.mean(prediction_lens)\n",
    "    result = {k: round(v, 4) for k, v in result.items()}\n",
    "    return result\n",
    "\n"
   ]
  },
  {
   "cell_type": "code",
   "execution_count": 13,
   "metadata": {},
   "outputs": [],
   "source": [
    "model = AutoModelForSeq2SeqLM.from_pretrained(checkpoint)"
   ]
  },
  {
   "cell_type": "code",
   "execution_count": 14,
   "metadata": {},
   "outputs": [
    {
     "name": "stderr",
     "output_type": "stream",
     "text": [
      "c:\\Users\\ethan\\anaconda3\\envs\\nlp\\lib\\site-packages\\accelerate\\accelerator.py:494: FutureWarning: `torch.cuda.amp.GradScaler(args...)` is deprecated. Please use `torch.amp.GradScaler('cuda', args...)` instead.\n",
      "  self.scaler = torch.cuda.amp.GradScaler(**kwargs)\n"
     ]
    }
   ],
   "source": [
    "training_args = Seq2SeqTrainingArguments(\n",
    "    output_dir=\"my_awesome_opus_books_model\",\n",
    "    eval_strategy=\"epoch\",\n",
    "    learning_rate=2e-5,\n",
    "    per_device_train_batch_size=16,\n",
    "    per_device_eval_batch_size=16,\n",
    "    weight_decay=0.01,\n",
    "    save_total_limit=3,\n",
    "    num_train_epochs=2,\n",
    "    predict_with_generate=True,\n",
    "    fp16=True, #change to bf16=True for XPU\n",
    "    push_to_hub=False,\n",
    ")\n",
    "\n",
    "trainer = Seq2SeqTrainer(\n",
    "    model=model,\n",
    "    args=training_args,\n",
    "    train_dataset=tokenized_books[\"train\"],\n",
    "    eval_dataset=tokenized_books[\"test\"],\n",
    "    tokenizer=tokenizer,\n",
    "    data_collator=data_collator,\n",
    "    compute_metrics=compute_metrics,\n",
    ")\n",
    "\n"
   ]
  },
  {
   "cell_type": "code",
   "execution_count": 15,
   "metadata": {},
   "outputs": [
    {
     "data": {
      "application/vnd.jupyter.widget-view+json": {
       "model_id": "d67d70df887a45d5938fc8581f77f8ba",
       "version_major": 2,
       "version_minor": 0
      },
      "text/plain": [
       "  0%|          | 0/12710 [00:00<?, ?it/s]"
      ]
     },
     "metadata": {},
     "output_type": "display_data"
    },
    {
     "name": "stdout",
     "output_type": "stream",
     "text": [
      "{'loss': 2.0783, 'grad_norm': 1.2511531114578247, 'learning_rate': 1.9213217938631003e-05, 'epoch': 0.08}\n",
      "{'loss': 2.0098, 'grad_norm': 1.7367422580718994, 'learning_rate': 1.8426435877261997e-05, 'epoch': 0.16}\n",
      "{'loss': 1.9838, 'grad_norm': 1.2962981462478638, 'learning_rate': 1.7639653815893e-05, 'epoch': 0.24}\n",
      "{'loss': 1.936, 'grad_norm': 1.27520751953125, 'learning_rate': 1.6852871754524e-05, 'epoch': 0.31}\n",
      "{'loss': 1.9218, 'grad_norm': 1.3131723403930664, 'learning_rate': 1.6067663257277734e-05, 'epoch': 0.39}\n",
      "{'loss': 1.8979, 'grad_norm': 1.2872899770736694, 'learning_rate': 1.5280881195908735e-05, 'epoch': 0.47}\n",
      "{'loss': 1.8931, 'grad_norm': 1.375, 'learning_rate': 1.4494099134539735e-05, 'epoch': 0.55}\n",
      "{'loss': 1.8675, 'grad_norm': 1.5202994346618652, 'learning_rate': 1.3707317073170734e-05, 'epoch': 0.63}\n",
      "{'loss': 1.8796, 'grad_norm': 1.4575570821762085, 'learning_rate': 1.292210857592447e-05, 'epoch': 0.71}\n",
      "{'loss': 1.8787, 'grad_norm': 1.3211054801940918, 'learning_rate': 1.213532651455547e-05, 'epoch': 0.79}\n",
      "{'loss': 1.8723, 'grad_norm': 1.1632329225540161, 'learning_rate': 1.1348544453186468e-05, 'epoch': 0.87}\n",
      "{'loss': 1.8632, 'grad_norm': 1.2876349687576294, 'learning_rate': 1.0561762391817467e-05, 'epoch': 0.94}\n"
     ]
    },
    {
     "name": "stderr",
     "output_type": "stream",
     "text": [
      "c:\\Users\\ethan\\anaconda3\\envs\\nlp\\lib\\site-packages\\transformers\\generation\\utils.py:1220: UserWarning: Using the model-agnostic default `max_length` (=20) to control the generation length. We recommend setting `max_new_tokens` to control the maximum length of the generation.\n",
      "  warnings.warn(\n"
     ]
    },
    {
     "data": {
      "application/vnd.jupyter.widget-view+json": {
       "model_id": "b01bba0bcd2848979015ccbf0f5e1633",
       "version_major": 2,
       "version_minor": 0
      },
      "text/plain": [
       "  0%|          | 0/1589 [00:00<?, ?it/s]"
      ]
     },
     "metadata": {},
     "output_type": "display_data"
    },
    {
     "name": "stdout",
     "output_type": "stream",
     "text": [
      "{'eval_loss': 1.63423752784729, 'eval_bleu': 5.458, 'eval_gen_len': 17.6357, 'eval_runtime': 410.8565, 'eval_samples_per_second': 61.863, 'eval_steps_per_second': 3.868, 'epoch': 1.0}\n",
      "{'loss': 1.8521, 'grad_norm': 1.2078088521957397, 'learning_rate': 9.778127458693943e-06, 'epoch': 1.02}\n",
      "{'loss': 1.8369, 'grad_norm': 1.173573613166809, 'learning_rate': 8.991345397324942e-06, 'epoch': 1.1}\n",
      "{'loss': 1.8406, 'grad_norm': 1.3431209325790405, 'learning_rate': 8.20456333595594e-06, 'epoch': 1.18}\n",
      "{'loss': 1.8158, 'grad_norm': 1.3518027067184448, 'learning_rate': 7.4177812745869405e-06, 'epoch': 1.26}\n",
      "{'loss': 1.8377, 'grad_norm': 1.4119102954864502, 'learning_rate': 6.630999213217939e-06, 'epoch': 1.34}\n",
      "{'loss': 1.8333, 'grad_norm': 1.1311908960342407, 'learning_rate': 5.844217151848939e-06, 'epoch': 1.42}\n",
      "{'loss': 1.8314, 'grad_norm': 1.205683708190918, 'learning_rate': 5.057435090479937e-06, 'epoch': 1.49}\n",
      "{'loss': 1.8315, 'grad_norm': 1.2215049266815186, 'learning_rate': 4.270653029110937e-06, 'epoch': 1.57}\n",
      "{'loss': 1.8278, 'grad_norm': 1.3845478296279907, 'learning_rate': 3.485444531864674e-06, 'epoch': 1.65}\n",
      "{'loss': 1.8171, 'grad_norm': 1.392116904258728, 'learning_rate': 2.6986624704956728e-06, 'epoch': 1.73}\n",
      "{'loss': 1.8056, 'grad_norm': 1.280100703239441, 'learning_rate': 1.911880409126672e-06, 'epoch': 1.81}\n",
      "{'loss': 1.821, 'grad_norm': 1.1249728202819824, 'learning_rate': 1.1250983477576713e-06, 'epoch': 1.89}\n",
      "{'loss': 1.8146, 'grad_norm': 1.1516107320785522, 'learning_rate': 3.3988985051140836e-07, 'epoch': 1.97}\n"
     ]
    },
    {
     "name": "stderr",
     "output_type": "stream",
     "text": [
      "c:\\Users\\ethan\\anaconda3\\envs\\nlp\\lib\\site-packages\\transformers\\generation\\utils.py:1220: UserWarning: Using the model-agnostic default `max_length` (=20) to control the generation length. We recommend setting `max_new_tokens` to control the maximum length of the generation.\n",
      "  warnings.warn(\n"
     ]
    },
    {
     "data": {
      "application/vnd.jupyter.widget-view+json": {
       "model_id": "034661c1a825488db964f358b21d18bd",
       "version_major": 2,
       "version_minor": 0
      },
      "text/plain": [
       "  0%|          | 0/1589 [00:00<?, ?it/s]"
      ]
     },
     "metadata": {},
     "output_type": "display_data"
    },
    {
     "name": "stdout",
     "output_type": "stream",
     "text": [
      "{'eval_loss': 1.6113057136535645, 'eval_bleu': 5.635, 'eval_gen_len': 17.6162, 'eval_runtime': 439.6295, 'eval_samples_per_second': 57.815, 'eval_steps_per_second': 3.614, 'epoch': 2.0}\n",
      "{'train_runtime': 2103.6582, 'train_samples_per_second': 96.658, 'train_steps_per_second': 6.042, 'train_loss': 1.8729620908771698, 'epoch': 2.0}\n"
     ]
    },
    {
     "data": {
      "text/plain": [
       "TrainOutput(global_step=12710, training_loss=1.8729620908771698, metrics={'train_runtime': 2103.6582, 'train_samples_per_second': 96.658, 'train_steps_per_second': 6.042, 'total_flos': 4984546558083072.0, 'train_loss': 1.8729620908771698, 'epoch': 2.0})"
      ]
     },
     "execution_count": 15,
     "metadata": {},
     "output_type": "execute_result"
    }
   ],
   "source": [
    "trainer.train()"
   ]
  },
  {
   "cell_type": "code",
   "execution_count": null,
   "metadata": {},
   "outputs": [],
   "source": [
    "text = \"translate English to French: Legumes share resources with nitrogen-fixing bacteria.\""
   ]
  },
  {
   "cell_type": "code",
   "execution_count": null,
   "metadata": {},
   "outputs": [],
   "source": []
  }
 ],
 "metadata": {
  "kernelspec": {
   "display_name": "nlp",
   "language": "python",
   "name": "python3"
  },
  "language_info": {
   "codemirror_mode": {
    "name": "ipython",
    "version": 3
   },
   "file_extension": ".py",
   "mimetype": "text/x-python",
   "name": "python",
   "nbconvert_exporter": "python",
   "pygments_lexer": "ipython3",
   "version": "3.10.14"
  }
 },
 "nbformat": 4,
 "nbformat_minor": 2
}
